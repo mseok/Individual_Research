{
 "cells": [
  {
   "cell_type": "code",
   "execution_count": null,
   "metadata": {},
   "outputs": [],
   "source": [
    "#AAE's pytorch code\n",
    "import torch\n",
    "import torch.nn as nn\n",
    "\n",
    "encoder = nn.Sequential(nn.Linear(in_dim, hidden_dim),\n",
    "                        nn.ReLU(),\n",
    "                        nn.Linear(hidden_dim, latent_dim))\n",
    "\n",
    "decoder = nn.Sequential(nn.Linear(latent_dim, hidden_dim),\n",
    "                        nn.ReLU(),\n",
    "                        nn.Linear(hidden_dim, input_dim),\n",
    "                        nn.Sigmoid())\n",
    "\n",
    "discriminator = nn.Sequential(nn.Linear(latent_dim, hidden_dim),\n",
    "                              nn.ReLU(),\n",
    "                              nn.Linear(hidden_dim, 1),\n",
    "                              nn.Sigmoid())\n",
    "\n",
    "#step 1 - reconstruction loss\n",
    "latent_sample = encoder(X)\n",
    "input_sample = decoder(latent_sample)\n",
    "reconstruction_loss = nn.binary_cross_entropy(input_sample, X)\n",
    "\n",
    "#step 2 - discriminator loss\n",
    "latent_real = Variable(torch.randn(batch_size, latent_dim))\n",
    "latent_fake = encoder(X)\n",
    "discriminator_real = discriminator(latent_real)\n",
    "discriminator_fake = discriminator(latent_fake)\n",
    "discriminator_loss = -torch.mean(torch.log(discriminator_real) + torch.log(1 - discriminator_fake))\n",
    "\n",
    "#step 3 - generator loss\n",
    "latent_fake = encoder(X)\n",
    "discriminator_fake = discriminator(latent_fake)\n",
    "generator_loss = -torch.mean(torch.log(discriminator_fake))"
   ]
  }
 ],
 "metadata": {
  "kernelspec": {
   "display_name": "Python 3",
   "language": "python",
   "name": "python3"
  },
  "language_info": {
   "codemirror_mode": {
    "name": "ipython",
    "version": 3
   },
   "file_extension": ".py",
   "mimetype": "text/x-python",
   "name": "python",
   "nbconvert_exporter": "python",
   "pygments_lexer": "ipython3",
   "version": "3.6.8"
  }
 },
 "nbformat": 4,
 "nbformat_minor": 2
}
