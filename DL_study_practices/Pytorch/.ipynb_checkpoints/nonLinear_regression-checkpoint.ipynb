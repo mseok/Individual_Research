{
 "cells": [
  {
   "cell_type": "markdown",
   "metadata": {},
   "source": [
    "Simple non linear regression with pytorch"
   ]
  },
  {
   "cell_type": "code",
   "execution_count": 1,
   "metadata": {},
   "outputs": [],
   "source": [
    "import numpy as np\n",
    "import torch\n",
    "import matplotlib.pyplot as plt\n",
    "import seaborn as sns\n",
    "\n",
    "import pandas as pd"
   ]
  },
  {
   "cell_type": "code",
   "execution_count": 2,
   "metadata": {},
   "outputs": [],
   "source": [
    "n_samples = 500\n",
    "x_data = np.random.randn(n_samples, 1).flatten()\n",
    "eps = np.random.normal(0.0, 1.0, n_samples)\n",
    "# y_data = 3.*np.sin(2.*x_data) + eps\n",
    "y_data = 2.*x_data**2 + eps\n",
    "data = pd.DataFrame({\"x_data\": x_data,\n",
    "                     \"y_data\": y_data})"
   ]
  },
  {
   "cell_type": "code",
   "execution_count": 3,
   "metadata": {},
   "outputs": [
    {
     "data": {
      "text/plain": [
       "<matplotlib.axes._subplots.AxesSubplot at 0x21abcda3eb8>"
      ]
     },
     "execution_count": 3,
     "metadata": {},
     "output_type": "execute_result"
    },
    {
     "data": {
      "image/png": "[encoded data removed]",
      "text/plain": [
       "<Figure size 432x288 with 1 Axes>"
      ]
     },
     "metadata": {
      "needs_background": "light"
     },
     "output_type": "display_data"
    }
   ],
   "source": [
    "sns.scatterplot(x=\"x_data\",\n",
    "                y=\"y_data\",\n",
    "                data = data)"
   ]
  },
  {
   "cell_type": "markdown",
   "metadata": {},
   "source": [
    "# DATALOADER"
   ]
  },
  {
   "cell_type": "code",
   "execution_count": 4,
   "metadata": {},
   "outputs": [],
   "source": [
    "from torch.utils.data import Dataset, DataLoader\n",
    "\n",
    "class NLRDataset(Dataset):\n",
    "    def __init__(self, x, y):\n",
    "        super(NLRDataset, self).__init__()\n",
    "        \n",
    "        self.x = x\n",
    "        self.y = y\n",
    "        \n",
    "    def __len__(self):\n",
    "        return len(self.x)\n",
    "    \n",
    "    def __getitem__(self, idx):\n",
    "        x_data = self.x\n",
    "        y_data = self.y\n",
    "        return x_data[idx], y_data[idx]"
   ]
  },
  {
   "cell_type": "code",
   "execution_count": 5,
   "metadata": {},
   "outputs": [],
   "source": [
    "def make_dataset(x_data, y_data, num_samples):\n",
    "    train_num = int(0.8 * num_samples)\n",
    "    train_x, test_x = x_data[:train_num], x_data[train_num:]\n",
    "    train_y, test_y = y_data[:train_num], y_data[train_num:]\n",
    "    train_dataset = NLRDataset(train_x, train_y)\n",
    "    test_dataset = NLRDataset(test_x, test_y)\n",
    "    partition_dictionary = {\"train_set\": train_dataset,\n",
    "                            \"test_set\": test_dataset}\n",
    "    \n",
    "    return partition_dictionary"
   ]
  },
  {
   "cell_type": "code",
   "execution_count": 6,
   "metadata": {},
   "outputs": [
    {
     "data": {
      "text/plain": [
       "{'train_set': <__main__.NLRDataset at 0x21abce95550>,\n",
       " 'test_set': <__main__.NLRDataset at 0x21abce95748>}"
      ]
     },
     "execution_count": 6,
     "metadata": {},
     "output_type": "execute_result"
    }
   ],
   "source": [
    "partition_dictionary = make_dataset(x_data, y_data, 500)\n",
    "partition_dictionary"
   ]
  },
  {
   "cell_type": "markdown",
   "metadata": {},
   "source": [
    "# MODEL"
   ]
  },
  {
   "cell_type": "code",
   "execution_count": 7,
   "metadata": {},
   "outputs": [],
   "source": [
    "import torch.nn as nn\n",
    "import torch.nn.functional as F\n",
    "\n",
    "torch.set_default_dtype(torch.double)\n",
    "\n",
    "class NLR(nn.Module):\n",
    "    def __init__(self, hidden_size, activation=None):\n",
    "        super(NLR, self).__init__()\n",
    "        \n",
    "        self.hidden_size = hidden_size\n",
    "        self.fc = nn.Linear(1, self.hidden_size)\n",
    "        self.predictor = nn.Linear(self.hidden_size, 1)\n",
    "        self.activation = activation\n",
    "        \n",
    "    def forward(self, x):\n",
    "        x = self.fc(x)\n",
    "        x = self.activation(x)\n",
    "        x = self.predictor(x)\n",
    "        \n",
    "        return x"
   ]
  },
  {
   "cell_type": "markdown",
   "metadata": {},
   "source": [
    "# EXPERIMENT"
   ]
  },
  {
   "cell_type": "code",
   "execution_count": 8,
   "metadata": {},
   "outputs": [],
   "source": [
    "def train(model, criteria, optimizer, batch_size, dataset):\n",
    "    train_loss = 0.0\n",
    "    model.train()\n",
    "    for i, batch in enumerate(dataset):\n",
    "        x_batch = (batch[0].clone().detach().requires_grad_(True)).view(-1, 1)\n",
    "        y_batch = (batch[1].clone().detach().requires_grad_(True)).view(-1, 1)\n",
    "        optimizer.zero_grad()\n",
    "\n",
    "        y_pred = model(x_batch)\n",
    "        y_pred.require_grad = False\n",
    "        loss = criteria(y_pred, y_batch)\n",
    "        train_loss += loss.item()/len(dataset)\n",
    "        loss.backward()\n",
    "        optimizer.step()\n",
    "        \n",
    "    return model, train_loss"
   ]
  },
  {
   "cell_type": "code",
   "execution_count": 9,
   "metadata": {},
   "outputs": [],
   "source": [
    "def test(model, criteria, batch_size, dataset):\n",
    "    test_loss = 0.0\n",
    "    model.eval()\n",
    "    with torch.no_grad():\n",
    "        for i, batch in enumerate(dataset):\n",
    "            x_batch = (batch[0].clone().detach().requires_grad_(True)).view(-1, 1)\n",
    "            y_batch = (batch[1].clone().detach().requires_grad_(True)).view(-1, 1)\n",
    "            y_pred = model(x_batch)\n",
    "            \n",
    "            loss = criteria(y_pred, y_batch)\n",
    "            test_loss += loss.item()/len(dataset)\n",
    "        \n",
    "    return test_loss"
   ]
  },
  {
   "cell_type": "code",
   "execution_count": 10,
   "metadata": {},
   "outputs": [],
   "source": [
    "def experiment(num_epoch, batch_size, data, hidden_size, activation):\n",
    "    if activation == \"relu\":\n",
    "        activation = nn.ReLU()\n",
    "        \n",
    "    model = NLR(hidden_size, activation)\n",
    "    optimizer = torch.optim.Adam(model.parameters())\n",
    "    criteria = nn.MSELoss()\n",
    "    \n",
    "    train_dataset = DataLoader(dataset = data[\"train_set\"],\n",
    "                               batch_size = batch_size,\n",
    "                               shuffle = True)\n",
    "    test_dataset = DataLoader(dataset = data[\"test_set\"],\n",
    "                              batch_size = batch_size,\n",
    "                              shuffle = True)\n",
    "    \n",
    "    train_loss_list = []\n",
    "    test_loss_list = []\n",
    "    epoch_list = []\n",
    "    for epoch in range(num_epoch):\n",
    "        model, train_loss = train(model, criteria, optimizer, batch_size, train_dataset)\n",
    "        test_loss = test(model, criteria, batch_size, test_dataset)\n",
    "        train_loss_list.append(train_loss)\n",
    "        test_loss_list.append(test_loss)\n",
    "        epoch_list.append(epoch)\n",
    "        \n",
    "    ret_DF = pd.DataFrame({\"epoch\": epoch_list * 2,\n",
    "                           \"loss type\": [\"train\" for i in range(len(train_loss_list))] + [\"test\" for i in range(len(test_loss_list))],\n",
    "                           \"loss value\": train_loss_list + test_loss_list})\n",
    "    \n",
    "    return model, ret_DF"
   ]
  },
  {
   "cell_type": "code",
   "execution_count": 11,
   "metadata": {},
   "outputs": [],
   "source": [
    "trained_model, DF = experiment(100, 20, partition_dictionary, 200, \"relu\")"
   ]
  },
  {
   "cell_type": "code",
   "execution_count": 12,
   "metadata": {},
   "outputs": [
    {
     "name": "stdout",
     "output_type": "stream",
     "text": [
      "     epoch loss type  loss value\n",
      "0        0     train   10.160244\n",
      "1        1     train    6.852901\n",
      "2        2     train    5.349728\n",
      "3        3     train    4.504523\n",
      "4        4     train    3.851815\n",
      "5        5     train    3.250373\n",
      "6        6     train    2.774526\n",
      "7        7     train    2.362749\n",
      "8        8     train    2.042924\n",
      "9        9     train    1.801433\n",
      "10      10     train    1.624245\n",
      "11      11     train    1.508455\n",
      "12      12     train    1.412496\n",
      "13      13     train    1.358115\n",
      "14      14     train    1.310155\n",
      "15      15     train    1.293392\n",
      "16      16     train    1.268574\n",
      "17      17     train    1.253992\n",
      "18      18     train    1.243519\n",
      "19      19     train    1.232409\n",
      "20      20     train    1.220328\n",
      "21      21     train    1.209244\n",
      "22      22     train    1.206503\n",
      "23      23     train    1.196820\n",
      "24      24     train    1.187053\n",
      "25      25     train    1.180157\n",
      "26      26     train    1.169993\n",
      "27      27     train    1.163090\n",
      "28      28     train    1.158607\n",
      "29      29     train    1.154196\n",
      "..     ...       ...         ...\n",
      "170     70      test    1.037884\n",
      "171     71      test    1.028386\n",
      "172     72      test    1.030405\n",
      "173     73      test    1.031263\n",
      "174     74      test    1.029453\n",
      "175     75      test    1.021454\n",
      "176     76      test    1.020821\n",
      "177     77      test    1.017055\n",
      "178     78      test    1.020184\n",
      "179     79      test    1.028815\n",
      "180     80      test    1.014693\n",
      "181     81      test    1.035147\n",
      "182     82      test    1.019307\n",
      "183     83      test    1.025311\n",
      "184     84      test    1.013232\n",
      "185     85      test    1.013495\n",
      "186     86      test    1.005510\n",
      "187     87      test    1.009214\n",
      "188     88      test    1.002667\n",
      "189     89      test    1.010949\n",
      "190     90      test    1.000396\n",
      "191     91      test    0.995501\n",
      "192     92      test    0.993158\n",
      "193     93      test    0.993256\n",
      "194     94      test    0.986378\n",
      "195     95      test    1.001053\n",
      "196     96      test    0.992367\n",
      "197     97      test    1.005306\n",
      "198     98      test    0.995446\n",
      "199     99      test    1.002469\n",
      "\n",
      "[200 rows x 3 columns]\n"
     ]
    }
   ],
   "source": [
    "print(DF)"
   ]
  },
  {
   "cell_type": "markdown",
   "metadata": {},
   "source": [
    "# VISUALIZAITON"
   ]
  },
  {
   "cell_type": "code",
   "execution_count": 13,
   "metadata": {},
   "outputs": [
    {
     "data": {
      "image/png": "[encoded data removed]",
      "text/plain": [
       "<Figure size 432x288 with 1 Axes>"
      ]
     },
     "metadata": {
      "needs_background": "light"
     },
     "output_type": "display_data"
    }
   ],
   "source": [
    "g = sns.lineplot(x=\"epoch\", y=\"loss value\", hue=\"loss type\", data=DF)"
   ]
  },
  {
   "cell_type": "markdown",
   "metadata": {},
   "source": [
    "# TEST"
   ]
  },
  {
   "cell_type": "code",
   "execution_count": 14,
   "metadata": {},
   "outputs": [],
   "source": [
    "x_test = np.arange(-5., 5., 0.2).flatten()\n",
    "y_true = 2.*x_test**2\n",
    "num_test_batches = x_test.shape[0] // 10\n",
    "y_test = []\n",
    "for i in range(num_test_batches):\n",
    "    x_batch = x_test[i*10:(i+1)*10]\n",
    "    y_test_batch = []\n",
    "    for j in range(len(x_batch)):\n",
    "        y_test_batch.append(trained_model(torch.tensor(x_batch[j]).view(-1)).item())\n",
    "    y_test.append(y_test_batch)\n",
    "y_test = np.asarray(y_test).flatten()\n",
    "\n",
    "data = pd.DataFrame({\"x\": np.concatenate((x_test, x_test)),\n",
    "                     \"y\": np.concatenate((y_true,y_test)),\n",
    "                     \"type\": np.asarray([\"true\" for i in range(len(y_true))] + [\"pred\" for i in range(len(y_test))])})"
   ]
  },
  {
   "cell_type": "code",
   "execution_count": 15,
   "metadata": {},
   "outputs": [
    {
     "data": {
      "text/plain": [
       "<matplotlib.axes._subplots.AxesSubplot at 0x21abcf7d438>"
      ]
     },
     "execution_count": 15,
     "metadata": {},
     "output_type": "execute_result"
    },
    {
     "data": {
      "image/png": "[encoded data removed]",
      "text/plain": [
       "<Figure size 432x288 with 1 Axes>"
      ]
     },
     "metadata": {
      "needs_background": "light"
     },
     "output_type": "display_data"
    }
   ],
   "source": [
    "sns.scatterplot(x=\"x\",\n",
    "                y=\"y\",\n",
    "                hue=\"type\",\n",
    "                data=data)"
   ]
  },
  {
   "cell_type": "code",
   "execution_count": null,
   "metadata": {},
   "outputs": [],
   "source": []
  }
 ],
 "metadata": {
  "kernelspec": {
   "display_name": "Python [conda env:msh]",
   "language": "python",
   "name": "conda-env-msh-py"
  },
  "language_info": {
   "codemirror_mode": {
    "name": "ipython",
    "version": 3
   },
   "file_extension": ".py",
   "mimetype": "text/x-python",
   "name": "python",
   "nbconvert_exporter": "python",
   "pygments_lexer": "ipython3",
   "version": "3.6.7"
  }
 },
 "nbformat": 4,
 "nbformat_minor": 2
}
