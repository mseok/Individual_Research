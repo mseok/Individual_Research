{
 "cells": [
  {
   "cell_type": "markdown",
   "metadata": {},
   "source": [
    "Simple regression with pytorch"
   ]
  },
  {
   "cell_type": "code",
   "execution_count": 1,
   "metadata": {},
   "outputs": [],
   "source": [
    "import numpy as np\n",
    "import torch\n",
    "import matplotlib.pyplot as plt\n",
    "import seaborn as sns\n",
    "import pandas as pd"
   ]
  },
  {
   "cell_type": "markdown",
   "metadata": {},
   "source": [
    "Assume that observation (x,y) has a form y = 3x + 5 + C, where the noise term C has a distribution C ~ N(0, s^2)"
   ]
  },
  {
   "cell_type": "code",
   "execution_count": 2,
   "metadata": {},
   "outputs": [],
   "source": [
    "n_samples = 500\n",
    "x_data = np.random.randn(n_samples, 1).flatten()\n",
    "eps = np.random.normal(0.0, 1.0, n_samples)\n",
    "y_data = 3*x_data + 5 + eps\n",
    "data = pd.DataFrame({\"x_data\": x_data,\n",
    "                     \"y_data\": y_data})"
   ]
  },
  {
   "cell_type": "code",
   "execution_count": 3,
   "metadata": {},
   "outputs": [
    {
     "data": {
      "text/plain": [
       "<matplotlib.axes._subplots.AxesSubplot at 0x2b6ac14cda0>"
      ]
     },
     "execution_count": 3,
     "metadata": {},
     "output_type": "execute_result"
    },
    {
     "data": {
      "image/png": "[encoded data removed]",
      "text/plain": [
       "<Figure size 432x288 with 1 Axes>"
      ]
     },
     "metadata": {
      "needs_background": "light"
     },
     "output_type": "display_data"
    }
   ],
   "source": [
    "sns.scatterplot(x=\"x_data\",\n",
    "                y=\"y_data\",\n",
    "                data=data)"
   ]
  },
  {
   "cell_type": "code",
   "execution_count": 5,
   "metadata": {},
   "outputs": [
    {
     "name": "stdout",
     "output_type": "stream",
     "text": [
      "2.9733572095477347 5.028420332348957\n"
     ]
    }
   ],
   "source": [
    "from scipy import stats\n",
    "slope, intercept, r_value, p_value, std_err = stats.linregress(data[\"x_data\"], data[\"y_data\"])\n",
    "print(slope, intercept)"
   ]
  },
  {
   "cell_type": "markdown",
   "metadata": {},
   "source": [
    "Our purpose is to estimate the equation that explains the graph in the best way."
   ]
  },
  {
   "cell_type": "markdown",
   "metadata": {},
   "source": [
    "# DATALOADER"
   ]
  },
  {
   "cell_type": "code",
   "execution_count": 6,
   "metadata": {},
   "outputs": [],
   "source": [
    "from torch.utils.data import Dataset, DataLoader\n",
    "\n",
    "class LRDataset(Dataset):\n",
    "    def __init__(self, x_data, y_data):\n",
    "        super(LRDataset, self).__init__()\n",
    "        \n",
    "        self.x = x_data\n",
    "        self.y = y_data\n",
    "        \n",
    "    def __len__(self):\n",
    "        return len(self.x)\n",
    "    \n",
    "    def __getitem__(self, idx):\n",
    "        x = self.x\n",
    "        y = self.y\n",
    "        return x[idx], y[idx]"
   ]
  },
  {
   "cell_type": "code",
   "execution_count": 7,
   "metadata": {},
   "outputs": [],
   "source": [
    "def dictionary_dataset(x, y, num_samples):\n",
    "    train_num = int(num_samples * 0.8)\n",
    "    train_x, test_x = x[:train_num], x[:train_num]\n",
    "    train_y, test_y = y[:train_num], y[:train_num]\n",
    "    train_dataset = LRDataset(train_x, train_y)\n",
    "    test_dataset = LRDataset(test_x, test_y)\n",
    "    partition = {\"train\": train_dataset, \"test\": test_dataset}\n",
    "    \n",
    "    return partition"
   ]
  },
  {
   "cell_type": "code",
   "execution_count": 8,
   "metadata": {},
   "outputs": [
    {
     "name": "stdout",
     "output_type": "stream",
     "text": [
      "{'train': <__main__.LRDataset object at 0x000002B6AC515240>, 'test': <__main__.LRDataset object at 0x000002B6AC51D908>}\n"
     ]
    }
   ],
   "source": [
    "partition_dictionary = dictionary_dataset(x_data, y_data, 500)\n",
    "print(partition_dictionary)"
   ]
  },
  {
   "cell_type": "markdown",
   "metadata": {},
   "source": [
    "# Model"
   ]
  },
  {
   "cell_type": "code",
   "execution_count": 53,
   "metadata": {},
   "outputs": [],
   "source": [
    "import torch.nn as nn\n",
    "import torch.nn.functional as F\n",
    "\n",
    "torch.set_default_dtype(torch.double)\n",
    "\n",
    "class LR(nn.Module):\n",
    "    def __init__(self, input_size, output_size):\n",
    "        super(LR, self).__init__()\n",
    "        \n",
    "        self.input_size = input_size\n",
    "        self.output_size = output_size\n",
    "        self.fc = nn.Linear(self.input_size, self.output_size)\n",
    "        \n",
    "    def forward(self, x):\n",
    "        res = self.fc(x)\n",
    "        return res"
   ]
  },
  {
   "cell_type": "markdown",
   "metadata": {},
   "source": [
    "# Experiment"
   ]
  },
  {
   "cell_type": "code",
   "execution_count": 91,
   "metadata": {},
   "outputs": [],
   "source": [
    "def train(model, criteria, batch_size, dataset):\n",
    "    model.train()\n",
    "    optimizer = torch.optim.Adam(model.parameters())\n",
    "    train_loss = 0.0\n",
    "    for i, batch in enumerate(dataset):\n",
    "        x_batch = (batch[0].clone().detach().requires_grad_(True)).view(-1)\n",
    "        y_batch = (batch[1].clone().detach().requires_grad_(True)).view(-1)\n",
    "        y_pred = model(x_batch)\n",
    "        loss = criteria(y_pred, y_batch)\n",
    "        train_loss += loss.item()/len(dataset)\n",
    "        \n",
    "        optimizer.zero_grad()\n",
    "        loss.backward()\n",
    "        optimizer.step()\n",
    "        \n",
    "    return model, train_loss"
   ]
  },
  {
   "cell_type": "code",
   "execution_count": 74,
   "metadata": {},
   "outputs": [],
   "source": [
    "def test(model, criteria, batch_size, dataset):\n",
    "    model.eval()\n",
    "    test_loss = 0.0\n",
    "    with torch.no_grad():\n",
    "        for i, batch in enumerate(dataset):\n",
    "            x_batch = (batch[0].clone().detach().requires_grad_(True)).view(-1)\n",
    "            y_batch = (batch[1].clone().detach().requires_grad_(True)).view(-1)\n",
    "            y_pred = model(x_batch)\n",
    "            loss = criteria(y_pred, y_batch)\n",
    "            test_loss += loss.item()/len(dataset)\n",
    "        \n",
    "    return model, test_loss"
   ]
  },
  {
   "cell_type": "code",
   "execution_count": 94,
   "metadata": {},
   "outputs": [],
   "source": [
    "def confirm(model):\n",
    "    x_test = np.random.randn(100, 1).flatten()\n",
    "    num_test_batches = x_test.shape[0] // 10\n",
    "    y_test = []\n",
    "    for i in range(num_test_batches):\n",
    "        x_batch = x_test[i*10:(i+1)*10]\n",
    "        y_test_batch = []\n",
    "        for j in range(len(x_batch)):\n",
    "            y_test_batch.append(model(torch.tensor(x_batch[j]).view(-1)).item())\n",
    "        y_test.append(y_test_batch)\n",
    "    y_test = np.asarray(y_test).flatten()\n",
    "\n",
    "    data = pd.DataFrame({\"x_test\": x_test,\n",
    "                         \"y_test\": y_test})\n",
    "\n",
    "    return data"
   ]
  },
  {
   "cell_type": "code",
   "execution_count": 95,
   "metadata": {},
   "outputs": [],
   "source": [
    "def experiment(num_epoch, batch_size, partition_dictionary):\n",
    "    model = LR(batch_size, batch_size)\n",
    "    criteria = nn.MSELoss()\n",
    "    \n",
    "    train_dataset = DataLoader(partition_dictionary[\"train\"],\n",
    "                               batch_size = batch_size,\n",
    "                               shuffle = True)\n",
    "    test_dataset = DataLoader(partition_dictionary[\"test\"],\n",
    "                               batch_size = batch_size,\n",
    "                               shuffle = True)\n",
    "    \n",
    "    train_loss_list = []\n",
    "    test_loss_list = []\n",
    "    max_loss = 0.0\n",
    "    min_loss = 0.0\n",
    "    epoch_list = []\n",
    "    for epoch in range(num_epoch):\n",
    "        model, train_loss = train(model, criteria, batch_size, train_dataset)\n",
    "        _, test_loss = test(model, criteria, batch_size, test_dataset)\n",
    "        train_loss_list.append(train_loss)\n",
    "        test_loss_list.append(test_loss)\n",
    "        \n",
    "        bigger_loss = train_loss if train_loss > test_loss else test_loss\n",
    "        smaller_loss = train_loss if train_loss < test_loss else test_loss\n",
    "        \n",
    "        max_loss = train_loss if bigger_loss > max_loss else max_loss\n",
    "        min_loss = train_loss if smaller_loss < min_loss else min_loss\n",
    "        \n",
    "        epoch_list.append(epoch)\n",
    "        \n",
    "    loss_range = [i*(max_loss - min_loss)/len(epoch_list) for i in range(len(epoch_list))]\n",
    "    \n",
    "    ret_DF = pd.DataFrame({\"epoch\": epoch_list * 2,\n",
    "                           \"loss type\": [\"train\" for i in range(len(train_loss_list))] + [\"test\" for i in range(len(test_loss_list))],\n",
    "                           \"loss value\": train_loss_list + test_loss_list})\n",
    "    \n",
    "    print(model.fc.weight.data.numpy(), model.fc.bias.data.numpy())\n",
    "    \n",
    "    confirm_DF = confirm(model)\n",
    "        \n",
    "    return ret_DF, confirm_DF"
   ]
  },
  {
   "cell_type": "markdown",
   "metadata": {},
   "source": [
    "# Visualize"
   ]
  },
  {
   "cell_type": "code",
   "execution_count": 96,
   "metadata": {},
   "outputs": [
    {
     "name": "stdout",
     "output_type": "stream",
     "text": [
      "[[2.91191755]] [4.99689205]\n"
     ]
    }
   ],
   "source": [
    "result_data, confirm_data = experiment(20, 1, partition_dictionary)"
   ]
  },
  {
   "cell_type": "code",
   "execution_count": 97,
   "metadata": {},
   "outputs": [
    {
     "name": "stdout",
     "output_type": "stream",
     "text": [
      "    epoch loss type  loss value\n",
      "0       0     train   27.023494\n",
      "1       1     train   23.285250\n",
      "2       2     train   19.853590\n",
      "3       3     train   16.773382\n",
      "4       4     train   13.994010\n",
      "5       5     train   11.373471\n",
      "6       6     train    9.077529\n",
      "7       7     train    7.148900\n",
      "8       8     train    5.522630\n",
      "9       9     train    4.154775\n",
      "10     10     train    3.076884\n",
      "11     11     train    2.262513\n",
      "12     12     train    1.685770\n",
      "13     13     train    1.308963\n",
      "14     14     train    1.095303\n",
      "15     15     train    0.987205\n",
      "16     16     train    0.934855\n",
      "17     17     train    0.910467\n",
      "18     18     train    0.898144\n",
      "19     19     train    0.894379\n",
      "20      0      test   25.123853\n",
      "21      1      test   21.525804\n",
      "22      2      test   18.250537\n",
      "23      3      test   15.348530\n",
      "24      4      test   12.684825\n",
      "25      5      test   10.205650\n",
      "26      6      test    8.071298\n",
      "27      7      test    6.280975\n",
      "28      8      test    4.804304\n",
      "29      9      test    3.571550\n",
      "30     10      test    2.627572\n",
      "31     11      test    1.940147\n",
      "32     12      test    1.467329\n",
      "33     13      test    1.181202\n",
      "34     14      test    1.023534\n",
      "35     15      test    0.953632\n",
      "36     16      test    0.917212\n",
      "37     17      test    0.901023\n",
      "38     18      test    0.893741\n",
      "39     19      test    0.891379\n"
     ]
    }
   ],
   "source": [
    "print(result_data)"
   ]
  },
  {
   "cell_type": "code",
   "execution_count": 98,
   "metadata": {},
   "outputs": [
    {
     "data": {
      "image/png": "[encoded data removed]",
      "text/plain": [
       "<Figure size 432x288 with 1 Axes>"
      ]
     },
     "metadata": {
      "needs_background": "light"
     },
     "output_type": "display_data"
    }
   ],
   "source": [
    "g = sns.lineplot(x=\"epoch\", y=\"loss value\", hue=\"loss type\", data=result_data)"
   ]
  },
  {
   "cell_type": "code",
   "execution_count": 102,
   "metadata": {},
   "outputs": [
    {
     "name": "stdout",
     "output_type": "stream",
     "text": [
      "2.91191754567286 4.99689205086042\n"
     ]
    },
    {
     "data": {
      "text/plain": [
       "<matplotlib.legend.Legend at 0x2b6accc92b0>"
      ]
     },
     "execution_count": 102,
     "metadata": {},
     "output_type": "execute_result"
    },
    {
     "data": {
      "image/png": "[encoded data removed]",
      "text/plain": [
       "<Figure size 432x288 with 1 Axes>"
      ]
     },
     "metadata": {
      "needs_background": "light"
     },
     "output_type": "display_data"
    }
   ],
   "source": [
    "slope, intercept, r_value, p_value, std_err = stats.linregress(confirm_data[\"x_test\"], confirm_data[\"y_test\"])\n",
    "print(slope, intercept)\n",
    "\n",
    "ax = sns.regplot(x=\"x_test\",\n",
    "                 y=\"y_test\",\n",
    "                 data=confirm_data,\n",
    "                 line_kws={'label':\"y={0:.1f}x+{1:.1f}\".format(slope, intercept)})\n",
    "ax.legend()"
   ]
  }
 ],
 "metadata": {
  "kernelspec": {
   "display_name": "Python [conda env:msh]",
   "language": "python",
   "name": "conda-env-msh-py"
  },
  "language_info": {
   "codemirror_mode": {
    "name": "ipython",
    "version": 3
   },
   "file_extension": ".py",
   "mimetype": "text/x-python",
   "name": "python",
   "nbconvert_exporter": "python",
   "pygments_lexer": "ipython3",
   "version": "3.6.7"
  }
 },
 "nbformat": 4,
 "nbformat_minor": 2
}
